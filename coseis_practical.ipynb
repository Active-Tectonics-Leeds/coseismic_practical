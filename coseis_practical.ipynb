{
 "cells": [
  {
   "cell_type": "markdown",
   "metadata": {},
   "source": [
    "# Lab 2 : Using InSAR and elastic dislocation modelling to estimate earthquake source parameters.\n",
    "\n",
    "Welcome to lab 3. The following cells will guide you through the exercises. Required functions are found in lab3_lib.py"
   ]
  },
  {
   "cell_type": "markdown",
   "metadata": {},
   "source": [
    "## 1. Introduction\n",
    "\n",
    "Since the launch of ERS-1 in 1991, the coseismic displacements of more than 80 earthquakes have been captured by InSAR. These range in size from Magnitude ~5 to Magnitude ~8, and have a variety of different mechanisms. Typically, coseismic interferograms are interpreted by comparing the interferograms with the predictions of elastic dislocation models, in which slip occurs on one or more dislocation (fault) in an elastic half space. \n",
    "\n",
    "In this practical class, you will examine 3 coseismic interferograms from continental earthquakes in different tectonic settings. For each one, you will try to find a simple, single-fault model that provides a reasonable fit to the observed interferograms, using some simple elastic dislocation modelling code (leeds_okada), based on the analytical expressions of (Okada, 1985, Okada, 1992).\n",
    "\n",
    "## 2. Aims\n",
    "\n",
    "1. To improve understanding of how to interpret coseismic interferograms.\n",
    "2. To understand the coseismic displacement fields produced by different types of earthquake.\n",
    "3. To learn how to produce elastic dislocation models of earthquakes\n",
    "4. To gain an appreciation of the uncertainties involved with determining earthquake mechanisms from coseismic InSAR data.\n",
    "\n",
    "## 3. Data sets\n",
    "\n",
    "For each earthquake, there is an A3 printed sheet. It contains the following four panels:\n",
    "\n",
    "(top left)  Wrapped interferogram. Each interference fringe is a phase change of 2π radians, which corresponds to motion of 28.3 mm in the satellite line of sight (a unit vector is given to define this line of sight; the interferogram is the dot product of the 3D displacement field with the line of sight vector). A change in colour from red through yellow to blue, indicates motion away from the satellite, which can be interpreted as subsidence only if the displacements are vertical.\n",
    "\n",
    "(top right) Unwrapped interferogram. This is included to help interpret the interferograms. Blue colours indicate motion away from the satellite (range increases); red colours indicate motion towards the satellite (range decreases).\n",
    "\n",
    "(bottom left) Zoom in on the wrapped interferogram, to help you count fringes.\n",
    "\n",
    "(bottom right) Coloured and shaded topographic map for the area of the zoomed interferogram. The topography comes from the shuttle radar topography mission 3 arcsecond elevation model (Farr et al., 2007). \n",
    "The interferograms are formed from pairs of images acquired by the ERS (Quakes 1, 2) or Envisat (Quake 3) satellites. They were processed using the JPL/Caltech ROI_PAC software (Rosen et al., 2004).\n",
    "\n",
    "## 4. Geting started\n",
    "\n",
    "Unlike previous labs, you are not here building up a python script. There is more thinking involved instead. For each quake you will be editing the fault parameters in leeds_okada.m but the first stage is to engage your grey matter to work out as much as you can about the earthquakes from looking and thinking.\n",
    "\n",
    "## 5. Task 1: Determine the best-fitting elastic dislocation model for three example earthquakes\n",
    "\n",
    "Specifically, you will be attempting to find the best fit rectangular dislocation with uniform slip. You will be doing this by a process of induction and iterative forward modelling (i.e. educated trial and error).\n",
    "\n",
    "For each earthquake, the following procedure should enable you to reach the best fitting model as quickly as possible:\n",
    "\n",
    "1. Draw on a vector corresponding to the approximate horizontal projection of the vector from the satellite to the ground. This is perpendicular to the azimuth (flight direction) of the satellite, and on the handout I give you the Line of Sight unit vector that points from the ground to the satellite.\n",
    "\n",
    "2. Count the fringes. How much motion is there towards and away from the satellite? Is it symmetrical (i.e. is the motion away from the satellite equal to that towards the satellite, or different). Note that dip slip earthquakes have a very asymmetrical displacement pattern. The subsidence will be larger than the uplift for normal faulting earthquakes and vice-versa for thrust faulting earthquakes.\n",
    "\n",
    "3. Determine approximately the type of earthquake. Draw on the surface rupture (if there is one). Estimate the strike and determine the direction of dip.\n",
    "\n",
    "4. Try to produce an elastic dislocation model for the earthquake that matches the observed interferograms. \n",
    "\ti)  Copy leeds_okada.m to quake1[or 2,3]_okada.m and edit this file.\n",
    "\tii) Edit parameters in the top of the file. (The line of sight vector is printed on the handout for each earthquake and must be typed into the script).\n",
    "\tiii) Run quakeN_okada.m. This calculates the elastic dislocation model and plots the results in 4 different ways (see titles of plots). \n",
    "\tiv) Compare the figures produced with the observed interferogram.\n",
    "\tv) Repeat steps ii to iv until you have a satisfactory model.\n",
    "\n",
    "In the report, include a table of best-fitting parameters you find for each earthquake as well as a figure showing the best fit simulated interferogram. You may wish to indicate a range of values that fit the data or an approximate error bar for each parameter.\n",
    "\n",
    "In the table include an estimate for the seismic moment (M0) and moment magnitude (Mw) derived from the model parameters, assuming a typical shear modulus of 3.2 x 1010 Pa.\n",
    "\n",
    "In the discussion, discuss how well you think you can fit each interferogram with these simple dislocation models. \n",
    "\n",
    "If the fit is not good, why not? What could be done to improve it?\n",
    "\n",
    "Also discuss how this work is done in the literature. What further steps would you need to do to write a real paper on this work?\n",
    "\n",
    "You may also wish to discuss how the deformation in these earthquakes relates (or not) to features in the landscape visible in the topography."
   ]
  },
  {
   "cell_type": "code",
   "execution_count": null,
   "metadata": {},
   "outputs": [],
   "source": []
  },
  {
   "cell_type": "code",
   "execution_count": null,
   "metadata": {},
   "outputs": [],
   "source": []
  }
 ],
 "metadata": {
  "kernelspec": {
   "display_name": "Python 3",
   "language": "python",
   "name": "python3"
  },
  "language_info": {
   "codemirror_mode": {
    "name": "ipython",
    "version": 3
   },
   "file_extension": ".py",
   "mimetype": "text/x-python",
   "name": "python",
   "nbconvert_exporter": "python",
   "pygments_lexer": "ipython3",
   "version": "3.7.0"
  }
 },
 "nbformat": 4,
 "nbformat_minor": 2
}
